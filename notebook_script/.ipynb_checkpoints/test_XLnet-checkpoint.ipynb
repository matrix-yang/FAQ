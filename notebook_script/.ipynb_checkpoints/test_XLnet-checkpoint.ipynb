{
 "cells": [
  {
   "cell_type": "code",
   "execution_count": 4,
   "metadata": {},
   "outputs": [],
   "source": [
    "from transformers import XLNetTokenizer, XLNetModel,XLNetConfig\n",
    "import torch\n",
    "\n",
    "XLN_PATH='F:/workcode/FAQ/XLNet_model'\n",
    "\n",
    "tokenizer = XLNetTokenizer.from_pretrained(XLN_PATH)\n",
    "# 加载配置\n",
    "model_config = XLNetConfig.from_pretrained(XLN_PATH)\n",
    "# 设定类别数为3\n",
    "model_config.num_labels = 3\n",
    "# 直接从xlnet的config新建XLNetForSequenceClassification(和上一节方法等效)\n",
    "model = XLNetModel.from_pretrained(XLN_PATH, config=model_config)"
   ]
  },
  {
   "cell_type": "code",
   "execution_count": null,
   "metadata": {},
   "outputs": [],
   "source": [
    "inputs = tokenizer.encoder(\"Hello, my dog is cute\")\n",
    "outputs = model(**inputs)\n",
    "last_hidden_states = outputs.last_hidden_state"
   ]
  }
 ],
 "metadata": {
  "kernelspec": {
   "display_name": "pytorch",
   "language": "python",
   "name": "pytorch"
  },
  "language_info": {
   "codemirror_mode": {
    "name": "ipython",
    "version": 3
   },
   "file_extension": ".py",
   "mimetype": "text/x-python",
   "name": "python",
   "nbconvert_exporter": "python",
   "pygments_lexer": "ipython3",
   "version": "3.6.8"
  }
 },
 "nbformat": 4,
 "nbformat_minor": 2
}
