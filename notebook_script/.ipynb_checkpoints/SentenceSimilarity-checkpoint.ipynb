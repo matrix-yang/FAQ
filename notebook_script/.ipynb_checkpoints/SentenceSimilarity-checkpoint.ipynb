{
 "cells": [
  {
   "cell_type": "code",
   "execution_count": 1,
   "metadata": {},
   "outputs": [],
   "source": [
    "import matplotlib.pyplot as plt\n",
    "import numpy as np\n",
    "import pandas as pd\n",
    "import csv"
   ]
  },
  {
   "cell_type": "code",
   "execution_count": 2,
   "metadata": {},
   "outputs": [],
   "source": [
    "import sys\n",
    "sys.path.append('../')\n",
    "sys.path.append('../distance')\n",
    "from sentence_simi import SentenceSimilarity"
   ]
  },
  {
   "cell_type": "code",
   "execution_count": 3,
   "metadata": {
    "scrolled": true
   },
   "outputs": [],
   "source": [
    "def read_corp(path):\n",
    "    ste_pairs=[]\n",
    "    csv_reader=csv.reader(open(path,encoding='utf-8'))\n",
    "    #去掉头\n",
    "    next(csv_reader)\n",
    "    for row in csv_reader:\n",
    "        ste1,ste2,label=row[1],row[2],row[3]\n",
    "        ste_pairs.append((ste1,ste2,int(label)))\n",
    "    return ste_pairs"
   ]
  },
  {
   "cell_type": "code",
   "execution_count": 4,
   "metadata": {},
   "outputs": [],
   "source": [
    "p_pairs=read_corp('F:/workcode/FAQ/data/subwayQq_positive_label.csv')\n",
    "n_pairs=read_corp('F:/workcode/FAQ/data/subwayQq_negative_label.csv')"
   ]
  },
  {
   "cell_type": "code",
   "execution_count": 5,
   "metadata": {},
   "outputs": [],
   "source": [
    "docs=[]\n",
    "for d in p_pairs:\n",
    "    docs.append(d[0])\n",
    "    docs.append(d[1])\n",
    "for d in n_pairs:\n",
    "    docs.append(d[0])\n",
    "    docs.append(d[1])"
   ]
  },
  {
   "cell_type": "code",
   "execution_count": 6,
   "metadata": {},
   "outputs": [],
   "source": [
    "sd=SentenceSimilarity(set(docs))"
   ]
  },
  {
   "cell_type": "code",
   "execution_count": 7,
   "metadata": {},
   "outputs": [],
   "source": [
    "all_paris=p_pairs+n_pairs"
   ]
  },
  {
   "cell_type": "code",
   "execution_count": 9,
   "metadata": {},
   "outputs": [],
   "source": [
    "def bm25_cls(s1,s2,sd,th=1.1):\n",
    "    d=sd.bm25(s1,s2)\n",
    "    l=0\n",
    "    if d>th:\n",
    "        l=1\n",
    "    return l\n"
   ]
  },
  {
   "cell_type": "code",
   "execution_count": 31,
   "metadata": {},
   "outputs": [],
   "source": [
    "def vaild_bm25(th):\n",
    "    p_right=0\n",
    "    p_sum=0\n",
    "    r_sum=0\n",
    "    for s1,s2,l in all_paris:\n",
    "        pdt=bm25_cls(s1,s2,sd,th)\n",
    "        if pdt==1 and l==1:\n",
    "            p_right+=1\n",
    "        if pdt==1:\n",
    "            p_sum+=1\n",
    "        if l==1:\n",
    "            r_sum+=1\n",
    "    a,b=p_right/p_sum,p_right/r_sum\n",
    "    f1=2*a*b/(a+b)\n",
    "    return f1"
   ]
  },
  {
   "cell_type": "code",
   "execution_count": 33,
   "metadata": {},
   "outputs": [
    {
     "name": "stdout",
     "output_type": "stream",
     "text": [
      "0.9 0.8757789779808891\n",
      "0.92 0.8776617954070981\n",
      "0.9400000000000001 0.883720930232558\n",
      "0.9600000000000001 0.8829289059174116\n",
      "0.9800000000000001 0.8849785407725322\n",
      "1.0 0.8873543375053949\n",
      "1.02 0.8823273990447242\n",
      "1.04 0.8840070298769771\n",
      "1.06 0.8814159292035398\n",
      "1.08 0.8802848242100577\n",
      "1.1 0.8773500447627574\n"
     ]
    }
   ],
   "source": [
    "for th in np.arange(0.9,1.1,0.02,dtype=float):\n",
    "    f=vaild_bm25(th)\n",
    "    print(th,f)"
   ]
  },
  {
   "cell_type": "code",
   "execution_count": 7,
   "metadata": {},
   "outputs": [
    {
     "data": {
      "text/plain": [
       "0.3372859323636337"
      ]
     },
     "execution_count": 7,
     "metadata": {},
     "output_type": "execute_result"
    }
   ],
   "source": [
    "sd.wrd('孕妇可以在哪里上车','爱心候车区在站台哪里')"
   ]
  },
  {
   "cell_type": "code",
   "execution_count": 18,
   "metadata": {},
   "outputs": [],
   "source": [
    "simi_sums=[]\n",
    "idx=0\n",
    "for ste1,ste2 in p_pairs:\n",
    "    if ste1 and ste2:\n",
    "        simi_sums.append(sd.wrd(ste1,ste2))\n",
    "        idx+=1"
   ]
  },
  {
   "cell_type": "code",
   "execution_count": 21,
   "metadata": {},
   "outputs": [
    {
     "data": {
      "text/plain": [
       "(array([ 10.,  19.,  53.,  80., 100., 141., 130., 149., 135., 110.,  80.,\n",
       "         46.,  40.,  30.,  26.,  16.,  10.,   2.,   1.,   3.]),\n",
       " array([0.03018412, 0.05552184, 0.08085957, 0.10619729, 0.13153501,\n",
       "        0.15687274, 0.18221046, 0.20754819, 0.23288591, 0.25822363,\n",
       "        0.28356136, 0.30889908, 0.33423681, 0.35957453, 0.38491225,\n",
       "        0.41024998, 0.4355877 , 0.46092543, 0.48626315, 0.51160087,\n",
       "        0.5369386 ]),\n",
       " <a list of 20 Patch objects>)"
      ]
     },
     "execution_count": 21,
     "metadata": {},
     "output_type": "execute_result"
    },
    {
     "data": {
      "image/png": "[encoded data removed]",
      "text/plain": [
       "<Figure size 432x288 with 1 Axes>"
      ]
     },
     "metadata": {
      "needs_background": "light"
     },
     "output_type": "display_data"
    }
   ],
   "source": [
    "plt.hist(simi_sums,bins=20)"
   ]
  },
  {
   "cell_type": "code",
   "execution_count": 24,
   "metadata": {},
   "outputs": [],
   "source": [
    "n_sums=[]\n",
    "idx=0\n",
    "for ste1,ste2 in n_pairs:\n",
    "    if ste1 and ste2:\n",
    "        n_sums.append(sd.wrd(ste1,ste2))\n",
    "        idx+=1"
   ]
  },
  {
   "cell_type": "code",
   "execution_count": 25,
   "metadata": {},
   "outputs": [
    {
     "data": {
      "text/plain": [
       "(array([ 11.,  32.,  38.,  44.,  51.,  80.,  93., 127., 138., 163., 147.,\n",
       "        115.,  82.,  38.,  20.,   9.,   4.,   5.,   2.,   1.]),\n",
       " array([0.03102483, 0.06397552, 0.09692621, 0.12987689, 0.16282758,\n",
       "        0.19577827, 0.22872896, 0.26167965, 0.29463034, 0.32758103,\n",
       "        0.36053172, 0.39348241, 0.4264331 , 0.45938379, 0.49233448,\n",
       "        0.52528517, 0.55823586, 0.59118655, 0.62413724, 0.65708793,\n",
       "        0.69003862]),\n",
       " <a list of 20 Patch objects>)"
      ]
     },
     "execution_count": 25,
     "metadata": {},
     "output_type": "execute_result"
    },
    {
     "data": {
      "image/png": "[encoded data removed]",
      "text/plain": [
       "<Figure size 432x288 with 1 Axes>"
      ]
     },
     "metadata": {
      "needs_background": "light"
     },
     "output_type": "display_data"
    }
   ],
   "source": [
    "plt.hist(n_sums,bins=20)"
   ]
  },
  {
   "cell_type": "code",
   "execution_count": 26,
   "metadata": {},
   "outputs": [
    {
     "name": "stderr",
     "output_type": "stream",
     "text": [
      "..\\distance\\WMD_base.py:23: OptimizeWarning: Solving system with option 'cholesky':True failed. It is normal for this to happen occasionally, especially as the solution is approached. However, if you see this frequently, consider setting option 'cholesky' to False.\n",
      "  result = linprog(D, A_eq=A_eq[:-1], b_eq=b_eq[:-1])\n",
      "..\\distance\\WMD_base.py:23: OptimizeWarning: Solving system with option 'sym_pos':True failed. It is normal for this to happen occasionally, especially as the solution is approached. However, if you see this frequently, consider setting option 'sym_pos' to False.\n",
      "  result = linprog(D, A_eq=A_eq[:-1], b_eq=b_eq[:-1])\n",
      "e:\\Anaconda3\\envs\\pytorch\\lib\\site-packages\\scipy\\optimize\\_linprog_ip.py:110: LinAlgWarning: Ill-conditioned matrix (rcond=1.196e-20): result may not be accurate.\n",
      "  return sp.linalg.solve(M, r, sym_pos=sym_pos)\n",
      "e:\\Anaconda3\\envs\\pytorch\\lib\\site-packages\\scipy\\optimize\\_linprog_ip.py:110: LinAlgWarning: Ill-conditioned matrix (rcond=1.28788e-18): result may not be accurate.\n",
      "  return sp.linalg.solve(M, r, sym_pos=sym_pos)\n",
      "..\\distance\\WMD_base.py:23: OptimizeWarning: Solving system with option 'sym_pos':False failed. This may happen occasionally, especially as the solution is approached. However, if you see this frequently, your problem may be numerically challenging. If you cannot improve the formulation, consider setting 'lstsq' to True. Consider also setting `presolve` to True, if it is not already.\n",
      "  result = linprog(D, A_eq=A_eq[:-1], b_eq=b_eq[:-1])\n",
      "e:\\Anaconda3\\envs\\pytorch\\lib\\site-packages\\scipy\\optimize\\_linprog_ip.py:110: LinAlgWarning: Ill-conditioned matrix (rcond=2.3346e-17): result may not be accurate.\n",
      "  return sp.linalg.solve(M, r, sym_pos=sym_pos)\n",
      "e:\\Anaconda3\\envs\\pytorch\\lib\\site-packages\\scipy\\optimize\\_linprog_ip.py:110: LinAlgWarning: Ill-conditioned matrix (rcond=1.38519e-17): result may not be accurate.\n",
      "  return sp.linalg.solve(M, r, sym_pos=sym_pos)\n",
      "e:\\Anaconda3\\envs\\pytorch\\lib\\site-packages\\scipy\\optimize\\_linprog_ip.py:110: LinAlgWarning: Ill-conditioned matrix (rcond=7.54219e-20): result may not be accurate.\n",
      "  return sp.linalg.solve(M, r, sym_pos=sym_pos)\n",
      "e:\\Anaconda3\\envs\\pytorch\\lib\\site-packages\\scipy\\optimize\\_linprog_ip.py:110: LinAlgWarning: Ill-conditioned matrix (rcond=4.02551e-20): result may not be accurate.\n",
      "  return sp.linalg.solve(M, r, sym_pos=sym_pos)\n",
      "e:\\Anaconda3\\envs\\pytorch\\lib\\site-packages\\scipy\\optimize\\_linprog_ip.py:110: LinAlgWarning: Ill-conditioned matrix (rcond=9.46486e-19): result may not be accurate.\n",
      "  return sp.linalg.solve(M, r, sym_pos=sym_pos)\n",
      "e:\\Anaconda3\\envs\\pytorch\\lib\\site-packages\\scipy\\optimize\\_linprog_ip.py:110: LinAlgWarning: Ill-conditioned matrix (rcond=9.75213e-20): result may not be accurate.\n",
      "  return sp.linalg.solve(M, r, sym_pos=sym_pos)\n",
      "e:\\Anaconda3\\envs\\pytorch\\lib\\site-packages\\scipy\\optimize\\_linprog_ip.py:110: LinAlgWarning: Ill-conditioned matrix (rcond=2.2467e-18): result may not be accurate.\n",
      "  return sp.linalg.solve(M, r, sym_pos=sym_pos)\n",
      "e:\\Anaconda3\\envs\\pytorch\\lib\\site-packages\\scipy\\optimize\\_linprog_ip.py:110: LinAlgWarning: Ill-conditioned matrix (rcond=4.83053e-18): result may not be accurate.\n",
      "  return sp.linalg.solve(M, r, sym_pos=sym_pos)\n",
      "e:\\Anaconda3\\envs\\pytorch\\lib\\site-packages\\scipy\\optimize\\_linprog_ip.py:110: LinAlgWarning: Ill-conditioned matrix (rcond=1.34122e-17): result may not be accurate.\n",
      "  return sp.linalg.solve(M, r, sym_pos=sym_pos)\n",
      "e:\\Anaconda3\\envs\\pytorch\\lib\\site-packages\\scipy\\optimize\\_linprog_ip.py:110: LinAlgWarning: Ill-conditioned matrix (rcond=2.28834e-18): result may not be accurate.\n",
      "  return sp.linalg.solve(M, r, sym_pos=sym_pos)\n",
      "e:\\Anaconda3\\envs\\pytorch\\lib\\site-packages\\scipy\\optimize\\_linprog_ip.py:110: LinAlgWarning: Ill-conditioned matrix (rcond=7.09695e-19): result may not be accurate.\n",
      "  return sp.linalg.solve(M, r, sym_pos=sym_pos)\n",
      "e:\\Anaconda3\\envs\\pytorch\\lib\\site-packages\\scipy\\optimize\\_linprog_ip.py:110: LinAlgWarning: Ill-conditioned matrix (rcond=5.02062e-18): result may not be accurate.\n",
      "  return sp.linalg.solve(M, r, sym_pos=sym_pos)\n",
      "e:\\Anaconda3\\envs\\pytorch\\lib\\site-packages\\scipy\\optimize\\_linprog_ip.py:110: LinAlgWarning: Ill-conditioned matrix (rcond=4.70943e-20): result may not be accurate.\n",
      "  return sp.linalg.solve(M, r, sym_pos=sym_pos)\n",
      "e:\\Anaconda3\\envs\\pytorch\\lib\\site-packages\\scipy\\optimize\\_linprog_ip.py:110: LinAlgWarning: Ill-conditioned matrix (rcond=3.22757e-19): result may not be accurate.\n",
      "  return sp.linalg.solve(M, r, sym_pos=sym_pos)\n",
      "e:\\Anaconda3\\envs\\pytorch\\lib\\site-packages\\scipy\\optimize\\_linprog_ip.py:110: LinAlgWarning: Ill-conditioned matrix (rcond=2.98158e-19): result may not be accurate.\n",
      "  return sp.linalg.solve(M, r, sym_pos=sym_pos)\n",
      "e:\\Anaconda3\\envs\\pytorch\\lib\\site-packages\\scipy\\optimize\\_linprog_ip.py:110: LinAlgWarning: Ill-conditioned matrix (rcond=8.60777e-18): result may not be accurate.\n",
      "  return sp.linalg.solve(M, r, sym_pos=sym_pos)\n",
      "e:\\Anaconda3\\envs\\pytorch\\lib\\site-packages\\scipy\\optimize\\_linprog_ip.py:110: LinAlgWarning: Ill-conditioned matrix (rcond=3.27402e-18): result may not be accurate.\n",
      "  return sp.linalg.solve(M, r, sym_pos=sym_pos)\n",
      "e:\\Anaconda3\\envs\\pytorch\\lib\\site-packages\\scipy\\optimize\\_linprog_ip.py:110: LinAlgWarning: Ill-conditioned matrix (rcond=1.53134e-19): result may not be accurate.\n",
      "  return sp.linalg.solve(M, r, sym_pos=sym_pos)\n",
      "e:\\Anaconda3\\envs\\pytorch\\lib\\site-packages\\scipy\\optimize\\_linprog_ip.py:110: LinAlgWarning: Ill-conditioned matrix (rcond=1.95198e-17): result may not be accurate.\n",
      "  return sp.linalg.solve(M, r, sym_pos=sym_pos)\n",
      "e:\\Anaconda3\\envs\\pytorch\\lib\\site-packages\\scipy\\optimize\\_linprog_ip.py:110: LinAlgWarning: Ill-conditioned matrix (rcond=4.19923e-19): result may not be accurate.\n",
      "  return sp.linalg.solve(M, r, sym_pos=sym_pos)\n",
      "e:\\Anaconda3\\envs\\pytorch\\lib\\site-packages\\scipy\\optimize\\_linprog_ip.py:110: LinAlgWarning: Ill-conditioned matrix (rcond=4.66924e-18): result may not be accurate.\n",
      "  return sp.linalg.solve(M, r, sym_pos=sym_pos)\n",
      "e:\\Anaconda3\\envs\\pytorch\\lib\\site-packages\\scipy\\optimize\\_linprog_ip.py:110: LinAlgWarning: Ill-conditioned matrix (rcond=8.76348e-18): result may not be accurate.\n",
      "  return sp.linalg.solve(M, r, sym_pos=sym_pos)\n",
      "e:\\Anaconda3\\envs\\pytorch\\lib\\site-packages\\scipy\\optimize\\_linprog_ip.py:110: LinAlgWarning: Ill-conditioned matrix (rcond=9.72423e-21): result may not be accurate.\n",
      "  return sp.linalg.solve(M, r, sym_pos=sym_pos)\n",
      "e:\\Anaconda3\\envs\\pytorch\\lib\\site-packages\\scipy\\optimize\\_linprog_ip.py:110: LinAlgWarning: Ill-conditioned matrix (rcond=1.70777e-18): result may not be accurate.\n",
      "  return sp.linalg.solve(M, r, sym_pos=sym_pos)\n"
     ]
    }
   ],
   "source": [
    "simi_sums=[]\n",
    "idx=0\n",
    "for ste1,ste2 in p_pairs:\n",
    "    if ste1 and ste2:\n",
    "        simi_sums.append(sd.wmd(ste1,ste2))\n",
    "        idx+=1"
   ]
  },
  {
   "cell_type": "code",
   "execution_count": 28,
   "metadata": {},
   "outputs": [
    {
     "data": {
      "text/plain": [
       "(array([  3.,   7.,  18.,  26.,  41.,  64.,  85., 114., 111., 144., 160.,\n",
       "        130.,  81.,  62.,  46.,  41.,  31.,  10.,   3.,   4.]),\n",
       " array([0.11096986, 0.13815869, 0.16534751, 0.19253633, 0.21972516,\n",
       "        0.24691398, 0.27410281, 0.30129163, 0.32848045, 0.35566928,\n",
       "        0.3828581 , 0.41004692, 0.43723575, 0.46442457, 0.4916134 ,\n",
       "        0.51880222, 0.54599104, 0.57317987, 0.60036869, 0.62755752,\n",
       "        0.65474634]),\n",
       " <a list of 20 Patch objects>)"
      ]
     },
     "execution_count": 28,
     "metadata": {},
     "output_type": "execute_result"
    },
    {
     "data": {
      "image/png": "[encoded data removed]",
      "text/plain": [
       "<Figure size 432x288 with 1 Axes>"
      ]
     },
     "metadata": {
      "needs_background": "light"
     },
     "output_type": "display_data"
    }
   ],
   "source": [
    "plt.hist(simi_sums,bins=20)"
   ]
  },
  {
   "cell_type": "code",
   "execution_count": 29,
   "metadata": {},
   "outputs": [],
   "source": [
    "n_sums=[]\n",
    "idx=0\n",
    "for ste1,ste2 in n_pairs:\n",
    "    if ste1 and ste2:\n",
    "        n_sums.append(sd.wrd(ste1,ste2))\n",
    "        idx+=1"
   ]
  },
  {
   "cell_type": "code",
   "execution_count": 30,
   "metadata": {},
   "outputs": [
    {
     "data": {
      "text/plain": [
       "(array([ 11.,  32.,  38.,  44.,  51.,  80.,  93., 127., 138., 163., 147.,\n",
       "        115.,  82.,  38.,  20.,   9.,   4.,   5.,   2.,   1.]),\n",
       " array([0.03102483, 0.06397552, 0.09692621, 0.12987689, 0.16282758,\n",
       "        0.19577827, 0.22872896, 0.26167965, 0.29463034, 0.32758103,\n",
       "        0.36053172, 0.39348241, 0.4264331 , 0.45938379, 0.49233448,\n",
       "        0.52528517, 0.55823586, 0.59118655, 0.62413724, 0.65708793,\n",
       "        0.69003862]),\n",
       " <a list of 20 Patch objects>)"
      ]
     },
     "execution_count": 30,
     "metadata": {},
     "output_type": "execute_result"
    },
    {
     "data": {
      "image/png": "[encoded data removed]",
      "text/plain": [
       "<Figure size 432x288 with 1 Axes>"
      ]
     },
     "metadata": {
      "needs_background": "light"
     },
     "output_type": "display_data"
    }
   ],
   "source": [
    "plt.hist(n_sums,bins=20)"
   ]
  },
  {
   "cell_type": "code",
   "execution_count": 15,
   "metadata": {},
   "outputs": [],
   "source": [
    "n_d=[]\n",
    "idx=0\n",
    "for ste1,ste2,_ in n_pairs:\n",
    "    if ste1 and ste2:\n",
    "        n_d.append(sd.bm25(ste1,ste2))\n",
    "        idx+=1\n",
    "        \n",
    "p_d=[]\n",
    "idx=0\n",
    "for ste1,ste2,_ in p_pairs:\n",
    "    if ste1 and ste2:\n",
    "        p_d.append(sd.bm25(ste1,ste2))\n",
    "        idx+=1"
   ]
  },
  {
   "cell_type": "code",
   "execution_count": 16,
   "metadata": {},
   "outputs": [
    {
     "data": {
      "text/plain": [
       "(array([ 58., 201., 372., 299., 154.,  65.,  17.,   9.,   1.,   2.,   1.,\n",
       "          1.,   0.,   0.,   0.,   0.,   0.,   0.,   0.,   1.]),\n",
       " array([ 0.        ,  0.6003414 ,  1.20068279,  1.80102419,  2.40136558,\n",
       "         3.00170698,  3.60204838,  4.20238977,  4.80273117,  5.40307257,\n",
       "         6.00341396,  6.60375536,  7.20409675,  7.80443815,  8.40477955,\n",
       "         9.00512094,  9.60546234, 10.20580374, 10.80614513, 11.40648653,\n",
       "        12.00682792]),\n",
       " <a list of 20 Patch objects>)"
      ]
     },
     "execution_count": 16,
     "metadata": {},
     "output_type": "execute_result"
    },
    {
     "data": {
      "image/png": "[encoded data removed]",
      "text/plain": [
       "<Figure size 432x288 with 1 Axes>"
      ]
     },
     "metadata": {
      "needs_background": "light"
     },
     "output_type": "display_data"
    }
   ],
   "source": [
    "plt.hist(p_d,bins=20)"
   ]
  },
  {
   "cell_type": "code",
   "execution_count": 17,
   "metadata": {},
   "outputs": [
    {
     "data": {
      "text/plain": [
       "(array([357., 190., 195., 171., 136.,  82.,  31.,  14.,  13.,   1.,   2.,\n",
       "          0.,   3.,   2.,   1.,   0.,   1.,   0.,   0.,   1.]),\n",
       " array([-0.00477354,  0.18171065,  0.36819484,  0.55467903,  0.74116323,\n",
       "         0.92764742,  1.11413161,  1.30061581,  1.4871    ,  1.67358419,\n",
       "         1.86006838,  2.04655258,  2.23303677,  2.41952096,  2.60600516,\n",
       "         2.79248935,  2.97897354,  3.16545774,  3.35194193,  3.53842612,\n",
       "         3.72491031]),\n",
       " <a list of 20 Patch objects>)"
      ]
     },
     "execution_count": 17,
     "metadata": {},
     "output_type": "execute_result"
    },
    {
     "data": {
      "image/png": "[encoded data removed]",
      "text/plain": [
       "<Figure size 432x288 with 1 Axes>"
      ]
     },
     "metadata": {
      "needs_background": "light"
     },
     "output_type": "display_data"
    }
   ],
   "source": [
    "plt.hist(n_d,bins=20)"
   ]
  },
  {
   "cell_type": "code",
   "execution_count": 39,
   "metadata": {},
   "outputs": [],
   "source": [
    "n_d=[]\n",
    "idx=0\n",
    "for ste1,ste2 in n_pairs:\n",
    "    if ste1 and ste2:\n",
    "        n_d.append(sd.jaccard(ste1,ste2))\n",
    "        idx+=1\n",
    "        \n",
    "p_d=[]\n",
    "idx=0\n",
    "for ste1,ste2 in p_pairs:\n",
    "    if ste1 and ste2:\n",
    "        p_d.append(sd.jaccard(ste1,ste2))\n",
    "        idx+=1"
   ]
  },
  {
   "cell_type": "code",
   "execution_count": 40,
   "metadata": {},
   "outputs": [
    {
     "data": {
      "text/plain": [
       "(array([ 33.,  27.,  37.,  56.,  84.,  96., 101., 111., 106.,  88., 124.,\n",
       "         87.,  73.,  69.,  25.,  26.,  26.,   3.,   7.,   2.]),\n",
       " array([0.  , 0.05, 0.1 , 0.15, 0.2 , 0.25, 0.3 , 0.35, 0.4 , 0.45, 0.5 ,\n",
       "        0.55, 0.6 , 0.65, 0.7 , 0.75, 0.8 , 0.85, 0.9 , 0.95, 1.  ]),\n",
       " <a list of 20 Patch objects>)"
      ]
     },
     "execution_count": 40,
     "metadata": {},
     "output_type": "execute_result"
    },
    {
     "data": {
      "image/png": "[encoded data removed]",
      "text/plain": [
       "<Figure size 432x288 with 1 Axes>"
      ]
     },
     "metadata": {
      "needs_background": "light"
     },
     "output_type": "display_data"
    }
   ],
   "source": [
    "plt.hist(p_d,bins=20)"
   ]
  },
  {
   "cell_type": "code",
   "execution_count": 41,
   "metadata": {},
   "outputs": [
    {
     "data": {
      "text/plain": [
       "(array([231., 141., 130., 108., 111., 105.,  84.,  66.,  40.,  28.,  27.,\n",
       "         24.,  37.,  31.,  24.,   5.,   3.,   3.,   0.,   2.]),\n",
       " array([0.        , 0.04583333, 0.09166667, 0.1375    , 0.18333333,\n",
       "        0.22916667, 0.275     , 0.32083333, 0.36666667, 0.4125    ,\n",
       "        0.45833333, 0.50416667, 0.55      , 0.59583333, 0.64166667,\n",
       "        0.6875    , 0.73333333, 0.77916667, 0.825     , 0.87083333,\n",
       "        0.91666667]),\n",
       " <a list of 20 Patch objects>)"
      ]
     },
     "execution_count": 41,
     "metadata": {},
     "output_type": "execute_result"
    },
    {
     "data": {
      "image/png": "[encoded data removed]",
      "text/plain": [
       "<Figure size 432x288 with 1 Axes>"
      ]
     },
     "metadata": {
      "needs_background": "light"
     },
     "output_type": "display_data"
    }
   ],
   "source": [
    "plt.hist(n_d,bins=20)"
   ]
  },
  {
   "cell_type": "code",
   "execution_count": 17,
   "metadata": {},
   "outputs": [],
   "source": [
    "n_d=[]\n",
    "idx=0\n",
    "for ste1,ste2 in n_pairs:\n",
    "    if ste1 and ste2:\n",
    "        n_d.append(sd.cos_simi(ste1,ste2))\n",
    "        idx+=1\n",
    "        \n",
    "p_d=[]\n",
    "idx=0\n",
    "for ste1,ste2 in p_pairs:\n",
    "    if ste1 and ste2:\n",
    "        p_d.append(sd.cos_simi(ste1,ste2))\n",
    "        idx+=1"
   ]
  },
  {
   "cell_type": "code",
   "execution_count": 18,
   "metadata": {},
   "outputs": [
    {
     "data": {
      "text/plain": [
       "(array([  2.,   1.,   2.,   3.,   0.,   4.,   6.,  10.,   3.,  14.,  17.,\n",
       "         34.,  46.,  98., 145., 221., 284., 176.,  99.,  35.]),\n",
       " array([0.6961932 , 0.71101326, 0.72583336, 0.7406534 , 0.75547343,\n",
       "        0.77029353, 0.7851136 , 0.7999336 , 0.8147537 , 0.82957375,\n",
       "        0.84439385, 0.8592139 , 0.8740339 , 0.888854  , 0.90367407,\n",
       "        0.9184941 , 0.9333142 , 0.94813424, 0.9629543 , 0.9777744 ,\n",
       "        0.9925944 ], dtype=float32),\n",
       " <a list of 20 Patch objects>)"
      ]
     },
     "execution_count": 18,
     "metadata": {},
     "output_type": "execute_result"
    },
    {
     "data": {
      "image/png": "[encoded data removed]",
      "text/plain": [
       "<Figure size 432x288 with 1 Axes>"
      ]
     },
     "metadata": {
      "needs_background": "light"
     },
     "output_type": "display_data"
    }
   ],
   "source": [
    "plt.hist(n_d,bins=20)"
   ]
  },
  {
   "cell_type": "code",
   "execution_count": 19,
   "metadata": {},
   "outputs": [
    {
     "data": {
      "text/plain": [
       "(array([  5.,   2.,   3.,   3.,   1.,   2.,   4.,   5.,   4.,   9.,   7.,\n",
       "         15.,  46.,  54.,  85., 175., 291., 273., 162.,  35.]),\n",
       " array([0.74537426, 0.7579187 , 0.77046317, 0.78300756, 0.795552  ,\n",
       "        0.80809647, 0.8206409 , 0.8331854 , 0.84572977, 0.8582742 ,\n",
       "        0.8708187 , 0.8833631 , 0.8959076 , 0.908452  , 0.9209964 ,\n",
       "        0.9335409 , 0.94608533, 0.9586298 , 0.9711742 , 0.98371863,\n",
       "        0.9962631 ], dtype=float32),\n",
       " <a list of 20 Patch objects>)"
      ]
     },
     "execution_count": 19,
     "metadata": {},
     "output_type": "execute_result"
    },
    {
     "data": {
      "image/png": "[encoded data removed]",
      "text/plain": [
       "<Figure size 432x288 with 1 Axes>"
      ]
     },
     "metadata": {
      "needs_background": "light"
     },
     "output_type": "display_data"
    }
   ],
   "source": [
    "plt.hist(p_d,bins=20)"
   ]
  },
  {
   "cell_type": "code",
   "execution_count": 20,
   "metadata": {},
   "outputs": [],
   "source": [
    "n_d=[]\n",
    "idx=0\n",
    "for ste1,ste2 in n_pairs:\n",
    "    if ste1 and ste2:\n",
    "        n_d.append(sd.sim_hash(ste1,ste2))\n",
    "        idx+=1\n",
    "        \n",
    "p_d=[]\n",
    "idx=0\n",
    "for ste1,ste2 in p_pairs:\n",
    "    if ste1 and ste2:\n",
    "        p_d.append(sd.sim_hash(ste1,ste2))\n",
    "        idx+=1"
   ]
  },
  {
   "cell_type": "code",
   "execution_count": 21,
   "metadata": {},
   "outputs": [
    {
     "data": {
      "text/plain": [
       "(array([  2.,   3.,   1.,   9.,  14.,  19.,  19.,  33.,  46.,  25.,  76.,\n",
       "        101., 157., 213., 190., 145.,  93.,  36.,  15.,   3.]),\n",
       " array([ 5. ,  6.9,  8.8, 10.7, 12.6, 14.5, 16.4, 18.3, 20.2, 22.1, 24. ,\n",
       "        25.9, 27.8, 29.7, 31.6, 33.5, 35.4, 37.3, 39.2, 41.1, 43. ]),\n",
       " <a list of 20 Patch objects>)"
      ]
     },
     "execution_count": 21,
     "metadata": {},
     "output_type": "execute_result"
    },
    {
     "data": {
      "image/png": "[encoded data removed]",
      "text/plain": [
       "<Figure size 432x288 with 1 Axes>"
      ]
     },
     "metadata": {
      "needs_background": "light"
     },
     "output_type": "display_data"
    }
   ],
   "source": [
    "plt.hist(n_d,bins=20)"
   ]
  },
  {
   "cell_type": "code",
   "execution_count": 22,
   "metadata": {},
   "outputs": [
    {
     "data": {
      "text/plain": [
       "(array([  3.,   0.,   1.,   6.,   4.,  16.,  32.,  22.,  52.,  68.,  89.,\n",
       "        132., 151., 246., 145.,  91.,  58.,  41.,  17.,   7.]),\n",
       " array([ 0.  ,  2.15,  4.3 ,  6.45,  8.6 , 10.75, 12.9 , 15.05, 17.2 ,\n",
       "        19.35, 21.5 , 23.65, 25.8 , 27.95, 30.1 , 32.25, 34.4 , 36.55,\n",
       "        38.7 , 40.85, 43.  ]),\n",
       " <a list of 20 Patch objects>)"
      ]
     },
     "execution_count": 22,
     "metadata": {},
     "output_type": "execute_result"
    },
    {
     "data": {
      "image/png": "[encoded data removed]",
      "text/plain": [
       "<Figure size 432x288 with 1 Axes>"
      ]
     },
     "metadata": {
      "needs_background": "light"
     },
     "output_type": "display_data"
    }
   ],
   "source": [
    "plt.hist(p_d,bins=20)"
   ]
  },
  {
   "cell_type": "code",
   "execution_count": 82,
   "metadata": {},
   "outputs": [],
   "source": [
    "a=np.random.rand(32)\n",
    "a[1]=0\n",
    "b=np.ones(32)"
   ]
  },
  {
   "cell_type": "code",
   "execution_count": 83,
   "metadata": {},
   "outputs": [
    {
     "data": {
      "text/plain": [
       "array([0.29545524, 0.        , 0.60753202, 0.43274239, 0.44955204,\n",
       "       0.61028266, 0.09931798, 0.9264617 , 0.65105844, 0.8606342 ,\n",
       "       0.91731708, 0.1767502 , 0.59500542, 0.93498594, 0.29138157,\n",
       "       0.33730474, 0.49361833, 0.64092345, 0.79256868, 0.88183246,\n",
       "       0.60720153, 0.00515695, 0.58417597, 0.26229814, 0.18603076,\n",
       "       0.43198504, 0.19681656, 0.06423844, 0.66283417, 0.58101483,\n",
       "       0.96935414, 0.25125505])"
      ]
     },
     "execution_count": 83,
     "metadata": {},
     "output_type": "execute_result"
    }
   ],
   "source": [
    "a"
   ]
  },
  {
   "cell_type": "code",
   "execution_count": 84,
   "metadata": {},
   "outputs": [],
   "source": [
    "a[a>0.5]=1\n",
    "a[a<=0.5]=0"
   ]
  },
  {
   "cell_type": "code",
   "execution_count": 85,
   "metadata": {},
   "outputs": [
    {
     "data": {
      "text/plain": [
       "array([0.29545524, 0.        , 1.        , 0.43274239, 0.44955204,\n",
       "       1.        , 0.09931798, 1.        , 1.        , 1.        ,\n",
       "       1.        , 0.1767502 , 1.        , 1.        , 0.29138157,\n",
       "       0.33730474, 0.49361833, 1.        , 1.        , 1.        ,\n",
       "       1.        , 0.00515695, 1.        , 0.26229814, 0.18603076,\n",
       "       0.43198504, 0.19681656, 0.06423844, 1.        , 1.        ,\n",
       "       1.        , 0.25125505])"
      ]
     },
     "execution_count": 85,
     "metadata": {},
     "output_type": "execute_result"
    }
   ],
   "source": [
    "a"
   ]
  },
  {
   "cell_type": "code",
   "execution_count": null,
   "metadata": {},
   "outputs": [],
   "source": []
  }
 ],
 "metadata": {
  "kernelspec": {
   "display_name": "pytorch",
   "language": "python",
   "name": "pytorch"
  },
  "language_info": {
   "codemirror_mode": {
    "name": "ipython",
    "version": 3
   },
   "file_extension": ".py",
   "mimetype": "text/x-python",
   "name": "python",
   "nbconvert_exporter": "python",
   "pygments_lexer": "ipython3",
   "version": "3.6.8"
  }
 },
 "nbformat": 4,
 "nbformat_minor": 2
}
